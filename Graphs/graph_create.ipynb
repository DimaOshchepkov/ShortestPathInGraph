{
 "cells": [
  {
   "cell_type": "code",
   "execution_count": 3,
   "metadata": {},
   "outputs": [],
   "source": [
    "import networkx as nx"
   ]
  },
  {
   "cell_type": "code",
   "execution_count": 6,
   "metadata": {},
   "outputs": [],
   "source": [
    "\n",
    "\n",
    "# Генерация случайного графа\n",
    "def generate_random_graph(num_nodes, probability):\n",
    "    return nx.erdos_renyi_graph(num_nodes, probability, directed=True)\n",
    "\n",
    "# Генерация графа с заданным числом узлов и процентом соединений\n",
    "def generate_connected_graph(num_nodes, percent_edges):\n",
    "    num_edges = int((num_nodes * (num_nodes - 1) / 2) * (percent_edges / 100))\n",
    "    return nx.gnm_random_graph(num_nodes, num_edges, directed=True)\n",
    "\n",
    "def generate_grid_graph(rows, cols):\n",
    "    G = nx.grid_2d_graph(rows, cols)\n",
    "    return nx.DiGraph(G)\n",
    "\n",
    "# Генерация графа в виде цикла\n",
    "def generate_cycle_graph(num_nodes):\n",
    "    return nx.cycle_graph(num_nodes, create_using=nx.DiGraph)\n",
    "\n",
    "def generate_random_tree(num_nodes):\n",
    "    # Генерируем случайное дерево\n",
    "    G = nx.random_tree(num_nodes)\n",
    "    # Преобразуем дерево в направленный граф\n",
    "    directed_G = nx.DiGraph()\n",
    "    directed_G.add_nodes_from(G.nodes())\n",
    "    directed_G.add_edges_from(G.edges())\n",
    "    return directed_G\n",
    "\n",
    "def write_graph_to_file(graph, filename):\n",
    "    with open(filename, 'w') as file:\n",
    "        num_nodes = graph.number_of_nodes()\n",
    "        num_edges = graph.number_of_edges()\n",
    "        file.write(f\"{num_nodes} {num_edges}\\n\")  # Записываем количество вершин и рёбер\n",
    "        for edge in graph.edges():\n",
    "            file.write(f\"{edge[0]} {edge[1]} 1\\n\")"
   ]
  },
  {
   "cell_type": "code",
   "execution_count": null,
   "metadata": {},
   "outputs": [],
   "source": [
    "for i in range(10_000, 30_000, 5000):\n",
    "    graph = generate_random_graph(i, 0.10)\n",
    "    i_str = str(i)\n",
    "    write_graph_to_file(graph=graph, filename=f'graph{i_str}_random_10persent_prob.txt')"
   ]
  },
  {
   "cell_type": "code",
   "execution_count": null,
   "metadata": {},
   "outputs": [],
   "source": []
  },
  {
   "cell_type": "code",
   "execution_count": 3,
   "metadata": {},
   "outputs": [],
   "source": [
    "graph8192_random_25persent_prob = generate_random_graph(8192, 0.25)\n",
    "write_graph_to_file(graph=graph8192_random_25persent_prob, filename=\"graph8192_random_25persent_prob.txt\")\n",
    "\n",
    "graph8192_random_50persent_prob = generate_random_graph(8192, 0.50)\n",
    "write_graph_to_file(graph=graph8192_random_50persent_prob, filename=\"graph8192_random_50persent_prob.txt\")\n",
    "\n",
    "graph8192_random_100persent_prob = generate_random_graph(8192, 1.00)\n",
    "write_graph_to_file(graph=graph8192_random_100persent_prob, filename=\"graph8192_random_100persent_prob.txt\")\n",
    "\n",
    "del graph8192_random_50persent_prob,graph8192_random_25persent_prob,graph8192_random_100persent_prob"
   ]
  },
  {
   "cell_type": "code",
   "execution_count": 4,
   "metadata": {},
   "outputs": [],
   "source": [
    "graph4096_random_25persent_prob = generate_random_graph(4096, 0.25)\n",
    "write_graph_to_file(graph=graph4096_random_25persent_prob, filename=\"graph4096_random_25persent_prob.txt\")\n",
    "\n",
    "graph4096_random_50persent_prob = generate_random_graph(4096, 0.50)\n",
    "write_graph_to_file(graph=graph4096_random_50persent_prob, filename=\"graph4096_random_50persent_prob.txt\")\n",
    "\n",
    "graph4096_random_100persent_prob = generate_random_graph(4096, 1.00)\n",
    "write_graph_to_file(graph=graph4096_random_100persent_prob, filename=\"graph4096_random_100persent_prob.txt\")\n",
    "\n",
    "del graph4096_random_25persent_prob, graph4096_random_50persent_prob, graph4096_random_100persent_prob"
   ]
  },
  {
   "cell_type": "code",
   "execution_count": 5,
   "metadata": {},
   "outputs": [],
   "source": [
    "graph2048_random_25persent_prob = generate_random_graph(2048, 0.25)\n",
    "write_graph_to_file(graph=graph2048_random_25persent_prob, filename=\"graph2048_random_25persent_prob.txt\")\n",
    "\n",
    "graph2048_random_50persent_prob = generate_random_graph(2048, 0.50)\n",
    "write_graph_to_file(graph=graph2048_random_50persent_prob, filename=\"graph2048_random_50persent_prob.txt\")\n",
    "\n",
    "graph2048_random_100persent_prob = generate_random_graph(2048, 1.00)\n",
    "write_graph_to_file(graph=graph2048_random_100persent_prob, filename=\"graph2048_random_100persent_prob.txt\")\n",
    "\n",
    "del graph2048_random_25persent_prob, graph2048_random_50persent_prob, graph2048_random_100persent_prob"
   ]
  },
  {
   "cell_type": "code",
   "execution_count": 7,
   "metadata": {},
   "outputs": [],
   "source": [
    "def write_graph_grid_to_file(graph, filename, num_edge):\n",
    "    with open(filename, 'w') as file:\n",
    "        num_nodes = graph.number_of_nodes()\n",
    "        num_edges = graph.number_of_edges()\n",
    "        file.write(f\"{num_nodes} {num_edges}\\n\")  # Записываем количество вершин и рёбер\n",
    "        for edge in graph.edges():\n",
    "            file.write(f\"{edge[0][0] * num_edge + edge[0][1]} {edge[1][0] * num_edge + edge[1][1]} 1\\n\")  # Учитываем направление ребра"
   ]
  },
  {
   "cell_type": "code",
   "execution_count": 13,
   "metadata": {},
   "outputs": [],
   "source": [
    "grid_graph16 = generate_grid_graph(16, 16)\n",
    "write_graph_grid_to_file(graph=grid_graph16, filename=\"grid_graph16.txt\", num_edge=16)\n",
    "\n",
    "grid_graph32 = generate_grid_graph(32, 32)\n",
    "write_graph_grid_to_file(graph=grid_graph32, filename=\"grid_graph32.txt\", num_edge=32)\n",
    "\n",
    "grid_graph64 = generate_grid_graph(64, 64)\n",
    "write_graph_grid_to_file(graph=grid_graph64, filename=\"grid_graph64.txt\", num_edge=64)\n",
    "\n",
    "del grid_graph16, grid_graph32, grid_graph64"
   ]
  },
  {
   "cell_type": "code",
   "execution_count": null,
   "metadata": {},
   "outputs": [],
   "source": [
    "for i in range(100, 173, 15):\n",
    "    graph = generate_grid_graph(i, i)\n",
    "    i_str = str(i)\n",
    "    write_graph_grid_to_file(graph=graph, filename=f'grid_graph{i_str}.txt', num_edge=i)"
   ]
  },
  {
   "cell_type": "code",
   "execution_count": 11,
   "metadata": {},
   "outputs": [],
   "source": [
    "tree_graph8192 = generate_random_tree(8192)\n",
    "write_graph_to_file(graph=tree_graph8192, filename=\"tree_graph8192.txt\")\n",
    "\n",
    "tree_graph2048= generate_random_tree(2048)\n",
    "write_graph_to_file(graph=tree_graph2048, filename=\"tree_graph2048.txt\")\n",
    "\n",
    "tree_graph4096 = generate_random_tree(4096)\n",
    "write_graph_to_file(graph=tree_graph4096, filename=\"grid_graph4096.txt\")\n",
    "\n",
    "del tree_graph8192, tree_graph2048, tree_graph4096"
   ]
  },
  {
   "cell_type": "code",
   "execution_count": 16,
   "metadata": {},
   "outputs": [],
   "source": [
    "graph100 = generate_random_graph(100, 1)\n",
    "write_graph_to_file(graph=graph100, filename=\"graph100.txt\")"
   ]
  },
  {
   "cell_type": "code",
   "execution_count": null,
   "metadata": {},
   "outputs": [],
   "source": [
    "graph50 = generate_random_graph(50, 1)\n",
    "write_graph_to_file(graph=graph50, filename=\"graph50.txt\")"
   ]
  }
 ],
 "metadata": {
  "kernelspec": {
   "display_name": "Python 3",
   "language": "python",
   "name": "python3"
  },
  "language_info": {
   "codemirror_mode": {
    "name": "ipython",
    "version": 3
   },
   "file_extension": ".py",
   "mimetype": "text/x-python",
   "name": "python",
   "nbconvert_exporter": "python",
   "pygments_lexer": "ipython3",
   "version": "3.12.2"
  }
 },
 "nbformat": 4,
 "nbformat_minor": 2
}
