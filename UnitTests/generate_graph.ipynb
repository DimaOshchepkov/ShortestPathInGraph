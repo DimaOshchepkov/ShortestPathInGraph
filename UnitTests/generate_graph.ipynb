{
 "cells": [
  {
   "cell_type": "code",
   "execution_count": 1,
   "metadata": {},
   "outputs": [],
   "source": [
    "import networkx as nx"
   ]
  },
  {
   "cell_type": "code",
   "execution_count": 2,
   "metadata": {},
   "outputs": [],
   "source": [
    "def generate_grid_graph(rows, cols):\n",
    "    G = nx.grid_2d_graph(rows, cols)\n",
    "    return nx.DiGraph(G)"
   ]
  },
  {
   "cell_type": "code",
   "execution_count": 3,
   "metadata": {},
   "outputs": [],
   "source": [
    "def write_graph_grid_to_file(graph, filename, num_edge):\n",
    "    with open(filename, 'w') as file:\n",
    "        num_nodes = graph.number_of_nodes()\n",
    "        num_edges = graph.number_of_edges()\n",
    "        file.write(f\"{num_nodes} {num_edges}\\n\")  # Записываем количество вершин и рёбер\n",
    "        for edge in graph.edges():\n",
    "            file.write(f\"{edge[0][0] * num_edge + edge[0][1]} {edge[1][0] * num_edge + edge[1][1]} 1\\n\")  # Учитываем направление ребра"
   ]
  },
  {
   "cell_type": "code",
   "execution_count": null,
   "metadata": {},
   "outputs": [],
   "source": [
    "graph = generate_grid_graph(3,3)\n",
    "write_graph_grid_to_file(graph, \"grid_graph3.txt\", 3)"
   ]
  }
 ],
 "metadata": {
  "kernelspec": {
   "display_name": "Python 3",
   "language": "python",
   "name": "python3"
  },
  "language_info": {
   "codemirror_mode": {
    "name": "ipython",
    "version": 3
   },
   "file_extension": ".py",
   "mimetype": "text/x-python",
   "name": "python",
   "nbconvert_exporter": "python",
   "pygments_lexer": "ipython3",
   "version": "3.12.2"
  }
 },
 "nbformat": 4,
 "nbformat_minor": 2
}
